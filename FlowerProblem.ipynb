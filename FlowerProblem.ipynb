{
 "cells": [
  {
   "cell_type": "code",
   "execution_count": 8,
   "metadata": {},
   "outputs": [],
   "source": [
    "%matplotlib inline"
   ]
  },
  {
   "cell_type": "code",
   "execution_count": 9,
   "metadata": {},
   "outputs": [],
   "source": [
    "from matplotlib import pyplot as plt"
   ]
  },
  {
   "cell_type": "code",
   "execution_count": 10,
   "metadata": {},
   "outputs": [],
   "source": [
    "import numpy as np"
   ]
  },
  {
   "cell_type": "code",
   "execution_count": 11,
   "metadata": {},
   "outputs": [],
   "source": [
    "data = [[3, 1.5, 1], \n",
    "        [2, 1, 0],\n",
    "        [4, 1.5, 1],\n",
    "        [3, 1, 0],\n",
    "        [3.5, 0.5, 1],\n",
    "        [2, 0.5, 0],\n",
    "        [5.5, 1, 1],\n",
    "        [1, 1, 1]]\n",
    "mysteryFlower = [4.5, 1]"
   ]
  },
  {
   "cell_type": "code",
   "execution_count": 12,
   "metadata": {},
   "outputs": [],
   "source": [
    "weight1 = np.random.randn()\n",
    "weight2 = np.random.randn()\n",
    "bias = np.random.rand()"
   ]
  },
  {
   "cell_type": "code",
   "execution_count": 13,
   "metadata": {},
   "outputs": [],
   "source": [
    "def sigmoid(x):\n",
    "    return (1/(1+np.exp(-x)))\n",
    "\n",
    "def sigmoid_p(x):\n",
    "    return sigmoid(x) * (1-sigmoid(x))"
   ]
  },
  {
   "cell_type": "code",
   "execution_count": null,
   "metadata": {},
   "outputs": [],
   "source": []
  },
  {
   "cell_type": "code",
   "execution_count": 19,
   "metadata": {},
   "outputs": [
    {
     "data": {
      "text/plain": [
       "[<matplotlib.lines.Line2D at 0x1bf1fb08828>]"
      ]
     },
     "execution_count": 19,
     "metadata": {},
     "output_type": "execute_result"
    },
    {
     "data": {
      "image/png": "[encoded data removed]",
      "text/plain": [
       "<Figure size 432x288 with 1 Axes>"
      ]
     },
     "metadata": {},
     "output_type": "display_data"
    }
   ],
   "source": [
    "T = np.linspace(-5, 5, 20)\n",
    "Y = sigmoid (T)\n",
    "Z = sigmoid_p(T)\n",
    "plt.plot(T,Y, c = 'r')\n",
    "plt.plot(T,Z, c = 'b')\n",
    "\n"
   ]
  },
  {
   "cell_type": "code",
   "execution_count": 21,
   "metadata": {},
   "outputs": [
    {
     "data": {
      "image/png": "[encoded data removed]",
      "text/plain": [
       "<Figure size 432x288 with 1 Axes>"
      ]
     },
     "metadata": {},
     "output_type": "display_data"
    }
   ],
   "source": [
    "#scatter the data\n",
    "plt.axis([0, 6, 0, 6])\n",
    "plt.grid()\n",
    "for i in range(len(data)):\n",
    "  point = data[i]\n",
    "  color = \"r\"\n",
    "  if point[2] == 0:\n",
    "    color = \"b\"\n",
    "  plt.scatter(point[0], point[1], c = color)"
   ]
  },
  {
   "cell_type": "code",
   "execution_count": 23,
   "metadata": {},
   "outputs": [
    {
     "name": "stdout",
     "output_type": "stream",
     "text": [
      "1.035911301385775\n",
      "1.035911301385775\n",
      "2.2364893081571164\n",
      "1.2923767854310042\n",
      "2.2364893081571164\n",
      "1.6653196498698497\n",
      "0.8494398691663521\n",
      "0.8494398691663521\n",
      "1.2923767854310042\n",
      "1.6653196498698497\n",
      "2.2364893081571164\n",
      "3.052369088860614\n",
      "1.2923767854310042\n",
      "1.6653196498698497\n",
      "1.035911301385775\n",
      "3.052369088860614\n",
      "1.4788482176504272\n",
      "1.6653196498698497\n",
      "1.4788482176504272\n",
      "3.052369088860614\n",
      "1.6653196498698497\n",
      "3.052369088860614\n",
      "0.8494398691663521\n",
      "1.4788482176504272\n",
      "1.035911301385775\n",
      "0.8494398691663521\n",
      "1.4788482176504272\n",
      "3.052369088860614\n",
      "1.035911301385775\n",
      "1.4788482176504272\n",
      "1.6653196498698497\n",
      "1.035911301385775\n",
      "0.22003152068227716\n",
      "1.4788482176504272\n",
      "0.8494398691663521\n",
      "1.4788482176504272\n",
      "1.035911301385775\n",
      "1.035911301385775\n",
      "1.2923767854310042\n",
      "1.035911301385775\n",
      "3.052369088860614\n",
      "1.4788482176504272\n",
      "1.035911301385775\n",
      "0.8494398691663521\n",
      "3.052369088860614\n",
      "2.2364893081571164\n",
      "2.2364893081571164\n",
      "1.4788482176504272\n",
      "0.8494398691663521\n",
      "3.052369088860614\n",
      "0.22003152068227716\n",
      "0.8494398691663521\n",
      "1.6653196498698497\n",
      "1.035911301385775\n",
      "1.035911301385775\n",
      "1.6653196498698497\n",
      "0.22003152068227716\n",
      "1.2923767854310042\n",
      "1.2923767854310042\n",
      "3.052369088860614\n",
      "1.2923767854310042\n",
      "2.2364893081571164\n",
      "2.2364893081571164\n",
      "0.8494398691663521\n",
      "0.8494398691663521\n",
      "3.052369088860614\n",
      "1.4788482176504272\n",
      "1.035911301385775\n",
      "2.2364893081571164\n",
      "1.2923767854310042\n",
      "1.4788482176504272\n",
      "1.4788482176504272\n",
      "3.052369088860614\n",
      "1.035911301385775\n",
      "3.052369088860614\n",
      "0.8494398691663521\n",
      "1.2923767854310042\n",
      "3.052369088860614\n",
      "1.6653196498698497\n",
      "3.052369088860614\n",
      "2.2364893081571164\n",
      "1.2923767854310042\n",
      "1.4788482176504272\n",
      "0.22003152068227716\n",
      "0.22003152068227716\n",
      "1.2923767854310042\n",
      "3.052369088860614\n",
      "1.6653196498698497\n",
      "1.2923767854310042\n",
      "2.2364893081571164\n",
      "2.2364893081571164\n",
      "1.6653196498698497\n",
      "2.2364893081571164\n",
      "1.4788482176504272\n",
      "1.035911301385775\n",
      "1.6653196498698497\n",
      "3.052369088860614\n",
      "1.4788482176504272\n",
      "1.4788482176504272\n",
      "2.2364893081571164\n"
     ]
    }
   ],
   "source": [
    "#training loop\n",
    "\n",
    "for i in range(100):\n",
    "    randomIndex = np.random.randint(len(data))\n",
    "    point = data[randomIndex]\n",
    "    \n",
    "    z = point[0] * weight1 + point[1] * weight2 + bias\n",
    "    h = sigmoid(z)\n",
    "    print(z)\n",
    "    "
   ]
  },
  {
   "cell_type": "code",
   "execution_count": null,
   "metadata": {},
   "outputs": [],
   "source": []
  },
  {
   "cell_type": "code",
   "execution_count": null,
   "metadata": {},
   "outputs": [],
   "source": []
  }
 ],
 "metadata": {
  "kernelspec": {
   "display_name": "Python 3",
   "language": "python",
   "name": "python3"
  },
  "language_info": {
   "codemirror_mode": {
    "name": "ipython",
    "version": 3
   },
   "file_extension": ".py",
   "mimetype": "text/x-python",
   "name": "python",
   "nbconvert_exporter": "python",
   "pygments_lexer": "ipython3",
   "version": "3.6.5"
  }
 },
 "nbformat": 4,
 "nbformat_minor": 2
}
